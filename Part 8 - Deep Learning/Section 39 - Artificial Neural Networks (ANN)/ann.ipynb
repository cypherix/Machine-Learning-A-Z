{
 "cells": [
  {
   "cell_type": "code",
   "execution_count": 1,
   "metadata": {},
   "outputs": [],
   "source": [
    "#Artificial Neural Network\n",
    "\n",
    "#Data Preprocessing\n",
    "\n",
    "#Importing the libraries\n",
    "import numpy as np\n",
    "import matplotlib.pyplot as plt\n",
    "import pandas as pd\n",
    "\n"
   ]
  },
  {
   "cell_type": "code",
   "execution_count": 2,
   "metadata": {},
   "outputs": [],
   "source": [
    "# Importing the dataset\n",
    "dataset = pd.read_csv('Churn_Modelling.csv')"
   ]
  },
  {
   "cell_type": "code",
   "execution_count": 3,
   "metadata": {},
   "outputs": [],
   "source": [
    "X = dataset.iloc[:, 3:13].values\n",
    "y = dataset.iloc[:, 13].values"
   ]
  },
  {
   "cell_type": "code",
   "execution_count": 4,
   "metadata": {},
   "outputs": [],
   "source": [
    "# Encoding categorical data\n",
    "from sklearn.preprocessing import LabelEncoder, OneHotEncoder\n",
    "labelencoder_X_1 = LabelEncoder()\n",
    "X[:, 1] = labelencoder_X_1.fit_transform(X[:, 1])\n",
    "labelencoder_X_2 = LabelEncoder()\n",
    "X[:, 2] = labelencoder_X_1.fit_transform(X[:, 2])\n",
    "onehotencoder = OneHotEncoder(categorical_features = [1])\n",
    "X = onehotencoder.fit_transform(X).toarray()\n",
    "\n",
    "X = X[:, 1:]"
   ]
  },
  {
   "cell_type": "code",
   "execution_count": 5,
   "metadata": {},
   "outputs": [],
   "source": [
    "# Splitting the dataset into the Training set and Test set\n",
    "from sklearn.model_selection import train_test_split\n",
    "X_train, X_test, y_train, y_test = train_test_split(X, y, test_size = 0.2, random_state = 0)"
   ]
  },
  {
   "cell_type": "code",
   "execution_count": 6,
   "metadata": {},
   "outputs": [],
   "source": [
    "# Feature Scaling\n",
    "from sklearn.preprocessing import StandardScaler\n",
    "sc_X = StandardScaler()\n",
    "X_train = sc_X.fit_transform(X_train)\n",
    "X_test = sc_X.transform(X_test)"
   ]
  },
  {
   "cell_type": "code",
   "execution_count": 7,
   "metadata": {},
   "outputs": [
    {
     "name": "stderr",
     "output_type": "stream",
     "text": [
      "C:\\ProgramData\\Anaconda3\\lib\\site-packages\\h5py\\__init__.py:36: FutureWarning: Conversion of the second argument of issubdtype from `float` to `np.floating` is deprecated. In future, it will be treated as `np.float64 == np.dtype(float).type`.\n",
      "  from ._conv import register_converters as _register_converters\n",
      "Using TensorFlow backend.\n"
     ]
    }
   ],
   "source": [
    "#importing the keras libraries and package\n",
    "import keras\n",
    "from keras.models import Sequential\n",
    "from keras.layers import Dense"
   ]
  },
  {
   "cell_type": "code",
   "execution_count": 8,
   "metadata": {},
   "outputs": [],
   "source": [
    "\n",
    "#Initialiing the ANN\n",
    "classifier = Sequential()\n",
    "\n",
    "#Adding the input layer and the first hidden layer\n",
    "classifier.add(Dense(units = 6, kernel_initializer = 'uniform', activation = 'relu', input_dim = 11))\n",
    "\n",
    "#Adding the second hidden layer\n",
    "classifier.add(Dense(units = 6, kernel_initializer = 'uniform', activation = 'relu'))\n",
    "\n",
    "#Adding the output layer\n",
    "classifier.add(Dense(units = 1, kernel_initializer = 'uniform', activation = 'sigmoid'))\n",
    "\n",
    "#Compiling the ANN\n",
    "classifier.compile(optimizer = 'adam', loss = 'binary_crossentropy', metrics = ['accuracy'])"
   ]
  },
  {
   "cell_type": "code",
   "execution_count": 10,
   "metadata": {},
   "outputs": [
    {
     "name": "stdout",
     "output_type": "stream",
     "text": [
      "Epoch 1/100\n",
      "8000/8000 [==============================] - 4s 481us/step - loss: 0.4011 - acc: 0.8346\n",
      "Epoch 2/100\n",
      "8000/8000 [==============================] - 4s 496us/step - loss: 0.4000 - acc: 0.8346\n",
      "Epoch 3/100\n",
      "8000/8000 [==============================] - 4s 479us/step - loss: 0.3997 - acc: 0.8344\n",
      "Epoch 4/100\n",
      "8000/8000 [==============================] - 4s 479us/step - loss: 0.3989 - acc: 0.8352\n",
      "Epoch 5/100\n",
      "8000/8000 [==============================] - 4s 481us/step - loss: 0.3979 - acc: 0.8344\n",
      "Epoch 6/100\n",
      "8000/8000 [==============================] - 4s 480us/step - loss: 0.3978 - acc: 0.8346\n",
      "Epoch 7/100\n",
      "8000/8000 [==============================] - 4s 477us/step - loss: 0.3973 - acc: 0.8360\n",
      "Epoch 8/100\n",
      "8000/8000 [==============================] - 4s 474us/step - loss: 0.3970 - acc: 0.8359\n",
      "Epoch 9/100\n",
      "8000/8000 [==============================] - 4s 482us/step - loss: 0.3967 - acc: 0.8345\n",
      "Epoch 10/100\n",
      "8000/8000 [==============================] - 4s 476us/step - loss: 0.3962 - acc: 0.8350\n",
      "Epoch 11/100\n",
      "8000/8000 [==============================] - 4s 478us/step - loss: 0.3953 - acc: 0.8357\n",
      "Epoch 12/100\n",
      "8000/8000 [==============================] - 4s 484us/step - loss: 0.3961 - acc: 0.8347\n",
      "Epoch 13/100\n",
      "8000/8000 [==============================] - 4s 479us/step - loss: 0.3954 - acc: 0.8369\n",
      "Epoch 14/100\n",
      "8000/8000 [==============================] - 4s 471us/step - loss: 0.3945 - acc: 0.8359\n",
      "Epoch 15/100\n",
      "8000/8000 [==============================] - 4s 487us/step - loss: 0.3935 - acc: 0.8359\n",
      "Epoch 16/100\n",
      "8000/8000 [==============================] - 4s 479us/step - loss: 0.3920 - acc: 0.8376\n",
      "Epoch 17/100\n",
      "8000/8000 [==============================] - 4s 479us/step - loss: 0.3897 - acc: 0.8374\n",
      "Epoch 18/100\n",
      "8000/8000 [==============================] - 4s 484us/step - loss: 0.3869 - acc: 0.8394\n",
      "Epoch 19/100\n",
      "8000/8000 [==============================] - 4s 470us/step - loss: 0.3849 - acc: 0.8372\n",
      "Epoch 20/100\n",
      "8000/8000 [==============================] - 4s 462us/step - loss: 0.3822 - acc: 0.8380\n",
      "Epoch 21/100\n",
      "8000/8000 [==============================] - 4s 476us/step - loss: 0.3804 - acc: 0.8375\n",
      "Epoch 22/100\n",
      "8000/8000 [==============================] - 4s 474us/step - loss: 0.3791 - acc: 0.8386\n",
      "Epoch 23/100\n",
      "8000/8000 [==============================] - 4s 486us/step - loss: 0.3787 - acc: 0.8395\n",
      "Epoch 24/100\n",
      "8000/8000 [==============================] - 4s 479us/step - loss: 0.3772 - acc: 0.8386\n",
      "Epoch 25/100\n",
      "8000/8000 [==============================] - 4s 479us/step - loss: 0.3766 - acc: 0.8382\n",
      "Epoch 26/100\n",
      "8000/8000 [==============================] - 4s 483us/step - loss: 0.3763 - acc: 0.8400\n",
      "Epoch 27/100\n",
      "8000/8000 [==============================] - 4s 486us/step - loss: 0.3757 - acc: 0.8406\n",
      "Epoch 28/100\n",
      "8000/8000 [==============================] - 4s 487us/step - loss: 0.3747 - acc: 0.8382\n",
      "Epoch 29/100\n",
      "8000/8000 [==============================] - 4s 476us/step - loss: 0.3748 - acc: 0.8385\n",
      "Epoch 30/100\n",
      "8000/8000 [==============================] - 4s 489us/step - loss: 0.3737 - acc: 0.8391\n",
      "Epoch 31/100\n",
      "8000/8000 [==============================] - 4s 487us/step - loss: 0.3723 - acc: 0.8401\n",
      "Epoch 32/100\n",
      "8000/8000 [==============================] - 4s 485us/step - loss: 0.3730 - acc: 0.8396\n",
      "Epoch 33/100\n",
      "8000/8000 [==============================] - 4s 480us/step - loss: 0.3713 - acc: 0.8395\n",
      "Epoch 34/100\n",
      "8000/8000 [==============================] - 4s 485us/step - loss: 0.3727 - acc: 0.8370\n",
      "Epoch 35/100\n",
      "8000/8000 [==============================] - 4s 487us/step - loss: 0.3710 - acc: 0.8375\n",
      "Epoch 36/100\n",
      "8000/8000 [==============================] - 4s 488us/step - loss: 0.3709 - acc: 0.8407\n",
      "Epoch 37/100\n",
      "8000/8000 [==============================] - 4s 483us/step - loss: 0.3700 - acc: 0.8415\n",
      "Epoch 38/100\n",
      "8000/8000 [==============================] - 4s 486us/step - loss: 0.3699 - acc: 0.8381\n",
      "Epoch 39/100\n",
      "8000/8000 [==============================] - 4s 485us/step - loss: 0.3690 - acc: 0.8417\n",
      "Epoch 40/100\n",
      "8000/8000 [==============================] - 4s 473us/step - loss: 0.3685 - acc: 0.8412\n",
      "Epoch 41/100\n",
      "8000/8000 [==============================] - 4s 482us/step - loss: 0.3688 - acc: 0.8419\n",
      "Epoch 42/100\n",
      "8000/8000 [==============================] - 4s 489us/step - loss: 0.3681 - acc: 0.8409\n",
      "Epoch 43/100\n",
      "8000/8000 [==============================] - 4s 492us/step - loss: 0.3669 - acc: 0.8424\n",
      "Epoch 44/100\n",
      "8000/8000 [==============================] - 4s 495us/step - loss: 0.3673 - acc: 0.8416\n",
      "Epoch 45/100\n",
      "8000/8000 [==============================] - 4s 487us/step - loss: 0.3667 - acc: 0.8429\n",
      "Epoch 46/100\n",
      "8000/8000 [==============================] - 4s 484us/step - loss: 0.3661 - acc: 0.8442\n",
      "Epoch 47/100\n",
      "8000/8000 [==============================] - 4s 486us/step - loss: 0.3663 - acc: 0.8436\n",
      "Epoch 48/100\n",
      "8000/8000 [==============================] - 4s 490us/step - loss: 0.3660 - acc: 0.8447\n",
      "Epoch 49/100\n",
      "8000/8000 [==============================] - 4s 485us/step - loss: 0.3658 - acc: 0.8449\n",
      "Epoch 50/100\n",
      "8000/8000 [==============================] - 4s 485us/step - loss: 0.3652 - acc: 0.8466\n",
      "Epoch 51/100\n",
      "8000/8000 [==============================] - 4s 488us/step - loss: 0.3643 - acc: 0.8469\n",
      "Epoch 52/100\n",
      "8000/8000 [==============================] - 4s 490us/step - loss: 0.3636 - acc: 0.8476\n",
      "Epoch 53/100\n",
      "8000/8000 [==============================] - 4s 491us/step - loss: 0.3632 - acc: 0.8492\n",
      "Epoch 54/100\n",
      "8000/8000 [==============================] - 4s 500us/step - loss: 0.3624 - acc: 0.8487\n",
      "Epoch 55/100\n",
      "8000/8000 [==============================] - 4s 521us/step - loss: 0.3614 - acc: 0.8490\n",
      "Epoch 56/100\n",
      "8000/8000 [==============================] - 4s 511us/step - loss: 0.3617 - acc: 0.8499\n",
      "Epoch 57/100\n",
      "8000/8000 [==============================] - 4s 514us/step - loss: 0.3601 - acc: 0.8525\n",
      "Epoch 58/100\n",
      "8000/8000 [==============================] - 4s 518us/step - loss: 0.3603 - acc: 0.8499\n",
      "Epoch 59/100\n",
      "8000/8000 [==============================] - 4s 504us/step - loss: 0.3579 - acc: 0.8541\n",
      "Epoch 60/100\n",
      "8000/8000 [==============================] - 4s 501us/step - loss: 0.3576 - acc: 0.8516\n",
      "Epoch 61/100\n",
      "8000/8000 [==============================] - 4s 503us/step - loss: 0.3554 - acc: 0.8531\n",
      "Epoch 62/100\n",
      "8000/8000 [==============================] - 4s 540us/step - loss: 0.3527 - acc: 0.8565\n",
      "Epoch 63/100\n",
      "8000/8000 [==============================] - 4s 507us/step - loss: 0.3523 - acc: 0.8552\n",
      "Epoch 64/100\n",
      "8000/8000 [==============================] - 4s 498us/step - loss: 0.3510 - acc: 0.8580\n",
      "Epoch 65/100\n",
      "8000/8000 [==============================] - 4s 496us/step - loss: 0.3500 - acc: 0.8589\n",
      "Epoch 66/100\n",
      "8000/8000 [==============================] - 4s 506us/step - loss: 0.3501 - acc: 0.8585\n",
      "Epoch 67/100\n",
      "8000/8000 [==============================] - 4s 500us/step - loss: 0.3476 - acc: 0.8586\n",
      "Epoch 68/100\n",
      "8000/8000 [==============================] - 4s 491us/step - loss: 0.3474 - acc: 0.8565\n",
      "Epoch 69/100\n",
      "8000/8000 [==============================] - 4s 500us/step - loss: 0.3468 - acc: 0.8589\n",
      "Epoch 70/100\n",
      "8000/8000 [==============================] - 4s 495us/step - loss: 0.3463 - acc: 0.8600\n",
      "Epoch 71/100\n",
      "8000/8000 [==============================] - 4s 498us/step - loss: 0.3457 - acc: 0.8600\n",
      "Epoch 72/100\n",
      "8000/8000 [==============================] - 4s 502us/step - loss: 0.3451 - acc: 0.8612\n",
      "Epoch 73/100\n",
      "8000/8000 [==============================] - 4s 504us/step - loss: 0.3444 - acc: 0.8616\n",
      "Epoch 74/100\n",
      "8000/8000 [==============================] - 4s 515us/step - loss: 0.3445 - acc: 0.8596\n",
      "Epoch 75/100\n",
      "8000/8000 [==============================] - 4s 551us/step - loss: 0.3445 - acc: 0.8617\n",
      "Epoch 76/100\n",
      "8000/8000 [==============================] - 4s 499us/step - loss: 0.3435 - acc: 0.8596\n",
      "Epoch 77/100\n",
      "8000/8000 [==============================] - 4s 493us/step - loss: 0.3437 - acc: 0.8622\n",
      "Epoch 78/100\n",
      "8000/8000 [==============================] - 4s 502us/step - loss: 0.3430 - acc: 0.8615\n",
      "Epoch 79/100\n",
      "8000/8000 [==============================] - 4s 502us/step - loss: 0.3434 - acc: 0.8597\n",
      "Epoch 80/100\n",
      "8000/8000 [==============================] - 4s 501us/step - loss: 0.3427 - acc: 0.8614\n",
      "Epoch 81/100\n",
      "8000/8000 [==============================] - 4s 501us/step - loss: 0.3414 - acc: 0.8620\n",
      "Epoch 82/100\n"
     ]
    },
    {
     "name": "stdout",
     "output_type": "stream",
     "text": [
      "8000/8000 [==============================] - 4s 466us/step - loss: 0.3421 - acc: 0.8612\n",
      "Epoch 83/100\n",
      "8000/8000 [==============================] - 4s 492us/step - loss: 0.3430 - acc: 0.8615\n",
      "Epoch 84/100\n",
      "8000/8000 [==============================] - 4s 485us/step - loss: 0.3412 - acc: 0.8620\n",
      "Epoch 85/100\n",
      "8000/8000 [==============================] - 4s 466us/step - loss: 0.3419 - acc: 0.8625\n",
      "Epoch 86/100\n",
      "8000/8000 [==============================] - 4s 474us/step - loss: 0.3416 - acc: 0.8597\n",
      "Epoch 87/100\n",
      "8000/8000 [==============================] - 4s 470us/step - loss: 0.3413 - acc: 0.8590\n",
      "Epoch 88/100\n",
      "8000/8000 [==============================] - 4s 471us/step - loss: 0.3418 - acc: 0.8594\n",
      "Epoch 89/100\n",
      "8000/8000 [==============================] - 4s 468us/step - loss: 0.3418 - acc: 0.8599\n",
      "Epoch 90/100\n",
      "8000/8000 [==============================] - 4s 473us/step - loss: 0.3402 - acc: 0.8596\n",
      "Epoch 91/100\n",
      "8000/8000 [==============================] - 4s 469us/step - loss: 0.3411 - acc: 0.8612\n",
      "Epoch 92/100\n",
      "8000/8000 [==============================] - 4s 469us/step - loss: 0.3409 - acc: 0.8575\n",
      "Epoch 93/100\n",
      "8000/8000 [==============================] - 4s 474us/step - loss: 0.3411 - acc: 0.8595\n",
      "Epoch 94/100\n",
      "8000/8000 [==============================] - 4s 470us/step - loss: 0.3411 - acc: 0.8607\n",
      "Epoch 95/100\n",
      "8000/8000 [==============================] - 4s 480us/step - loss: 0.3409 - acc: 0.8607\n",
      "Epoch 96/100\n",
      "8000/8000 [==============================] - 4s 459us/step - loss: 0.3395 - acc: 0.8625\n",
      "Epoch 97/100\n",
      "8000/8000 [==============================] - 4s 477us/step - loss: 0.3415 - acc: 0.8610\n",
      "Epoch 98/100\n",
      "8000/8000 [==============================] - 4s 488us/step - loss: 0.3409 - acc: 0.8605\n",
      "Epoch 99/100\n",
      "8000/8000 [==============================] - 4s 478us/step - loss: 0.3409 - acc: 0.8597\n",
      "Epoch 100/100\n",
      "8000/8000 [==============================] - 4s 474us/step - loss: 0.3400 - acc: 0.8609\n"
     ]
    },
    {
     "data": {
      "text/plain": [
       "<keras.callbacks.History at 0x23f2f7727b8>"
      ]
     },
     "execution_count": 10,
     "metadata": {},
     "output_type": "execute_result"
    }
   ],
   "source": [
    "#Fitting the ANN to the Training set\n",
    "classifier.fit(X_train, y_train, batch_size = 10, epochs = 100)"
   ]
  },
  {
   "cell_type": "code",
   "execution_count": 17,
   "metadata": {},
   "outputs": [],
   "source": [
    "y_pred = classifier.predict(X_test)"
   ]
  },
  {
   "cell_type": "code",
   "execution_count": 18,
   "metadata": {},
   "outputs": [],
   "source": [
    "y_pred = (y_pred > 0.5)"
   ]
  },
  {
   "cell_type": "code",
   "execution_count": 19,
   "metadata": {},
   "outputs": [],
   "source": [
    "from sklearn.metrics import confusion_matrix\n",
    "cm = confusion_matrix(y_test, y_pred)"
   ]
  },
  {
   "cell_type": "code",
   "execution_count": 20,
   "metadata": {},
   "outputs": [
    {
     "name": "stdout",
     "output_type": "stream",
     "text": [
      "[[1511   84]\n",
      " [ 195  210]]\n"
     ]
    }
   ],
   "source": [
    "print(cm)"
   ]
  }
 ],
 "metadata": {
  "kernelspec": {
   "display_name": "Python 3",
   "language": "python",
   "name": "python3"
  },
  "language_info": {
   "codemirror_mode": {
    "name": "ipython",
    "version": 3
   },
   "file_extension": ".py",
   "mimetype": "text/x-python",
   "name": "python",
   "nbconvert_exporter": "python",
   "pygments_lexer": "ipython3",
   "version": "3.6.4"
  }
 },
 "nbformat": 4,
 "nbformat_minor": 2
}
