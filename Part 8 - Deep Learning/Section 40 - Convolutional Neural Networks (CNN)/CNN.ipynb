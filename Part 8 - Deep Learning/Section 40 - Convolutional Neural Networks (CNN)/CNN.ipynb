{
 "cells": [
  {
   "cell_type": "code",
   "execution_count": 8,
   "metadata": {},
   "outputs": [],
   "source": [
    "#CNN\n",
    "\n",
    "#Building the CNN\n",
    "\n",
    "#Importing the libraries\n",
    "from keras.models import Sequential\n",
    "from keras.layers import Convolution2D\n",
    "from keras.layers import MaxPooling2D\n",
    "from keras.layers import Flatten\n",
    "from keras.layers import Dense"
   ]
  },
  {
   "cell_type": "code",
   "execution_count": 62,
   "metadata": {},
   "outputs": [],
   "source": [
    "#Initializing the CNN\n",
    "classifier = Sequential()\n",
    "\n",
    "#Convolution\n",
    "classifier.add(Convolution2D(32, (3, 3), input_shape = (64, 64, 3), activation = 'relu'))\n",
    "\n",
    "#Pooling\n",
    "classifier.add(MaxPooling2D(pool_size = (2, 2)))\n",
    "\n",
    "#Adding the second convolution layer\n",
    "classifier.add(Convolution2D(32, (3, 3), activation = 'relu'))\n",
    "classifier.add(MaxPooling2D(pool_size = (2, 2)))\n",
    "\n",
    "\n",
    "#Adding the third convolution layer\n",
    "classifier.add(Convolution2D(64, (3, 3), activation = 'relu'))\n",
    "classifier.add(MaxPooling2D(pool_size = (2, 2)))\n",
    "\n",
    "#Flattening\n",
    "classifier.add(Flatten())\n",
    "\n",
    "#Full Connection\n",
    "classifier.add(Dense(units = 128, activation = 'relu'))\n",
    "classifier.add(Dense(units = 1, activation = 'sigmoid'))\n",
    "\n",
    "classifier.compile(optimizer = 'adam', loss = 'binary_crossentropy', metrics = ['accuracy'])"
   ]
  },
  {
   "cell_type": "code",
   "execution_count": 63,
   "metadata": {},
   "outputs": [
    {
     "name": "stdout",
     "output_type": "stream",
     "text": [
      "Found 8000 images belonging to 2 classes.\n",
      "Found 2000 images belonging to 2 classes.\n"
     ]
    }
   ],
   "source": [
    "from keras.preprocessing.image import ImageDataGenerator\n",
    "train_datagen = ImageDataGenerator(\n",
    "        rescale=1./255,\n",
    "        shear_range=0.2,\n",
    "        zoom_range=0.2,\n",
    "        horizontal_flip=True)\n",
    "\n",
    "test_datagen = ImageDataGenerator(rescale=1./255)\n",
    "\n",
    "training_set = train_datagen.flow_from_directory('dataset/training_set',\n",
    "                                                  target_size=(64, 64),\n",
    "                                                  batch_size=32,\n",
    "                                                  class_mode='binary')\n",
    "\n",
    "test_set = test_datagen.flow_from_directory('dataset/test_set',\n",
    "                                            target_size=(64, 64),\n",
    "                                            batch_size=32,\n",
    "                                            class_mode='binary')"
   ]
  },
  {
   "cell_type": "code",
   "execution_count": 64,
   "metadata": {},
   "outputs": [
    {
     "name": "stdout",
     "output_type": "stream",
     "text": [
      "Epoch 1/25\n",
      "250/250 [==============================] - 34s 134ms/step - loss: 0.6803 - acc: 0.5652 - val_loss: 0.6474 - val_acc: 0.6270\n",
      "Epoch 2/25\n",
      "250/250 [==============================] - 33s 131ms/step - loss: 0.6204 - acc: 0.6583 - val_loss: 0.7484 - val_acc: 0.5675\n",
      "Epoch 3/25\n",
      "250/250 [==============================] - 32s 129ms/step - loss: 0.5622 - acc: 0.7098 - val_loss: 0.5469 - val_acc: 0.7200\n",
      "Epoch 4/25\n",
      "250/250 [==============================] - 31s 126ms/step - loss: 0.5287 - acc: 0.7354 - val_loss: 0.5343 - val_acc: 0.7395\n",
      "Epoch 5/25\n",
      "250/250 [==============================] - 31s 125ms/step - loss: 0.5026 - acc: 0.7545 - val_loss: 0.5409 - val_acc: 0.7460\n",
      "Epoch 6/25\n",
      "250/250 [==============================] - 31s 126ms/step - loss: 0.4860 - acc: 0.7640 - val_loss: 0.4950 - val_acc: 0.7630\n",
      "Epoch 7/25\n",
      "250/250 [==============================] - 31s 125ms/step - loss: 0.4618 - acc: 0.7786 - val_loss: 0.4500 - val_acc: 0.7890\n",
      "Epoch 8/25\n",
      "250/250 [==============================] - 31s 125ms/step - loss: 0.4419 - acc: 0.7969 - val_loss: 0.4619 - val_acc: 0.7790\n",
      "Epoch 9/25\n",
      "250/250 [==============================] - 31s 125ms/step - loss: 0.4270 - acc: 0.8003 - val_loss: 0.4581 - val_acc: 0.7875\n",
      "Epoch 10/25\n",
      "250/250 [==============================] - 31s 125ms/step - loss: 0.4176 - acc: 0.8035 - val_loss: 0.4256 - val_acc: 0.8030\n",
      "Epoch 11/25\n",
      "250/250 [==============================] - 31s 125ms/step - loss: 0.3962 - acc: 0.8149 - val_loss: 0.4268 - val_acc: 0.8020\n",
      "Epoch 12/25\n",
      "250/250 [==============================] - 31s 126ms/step - loss: 0.3897 - acc: 0.8205 - val_loss: 0.4357 - val_acc: 0.7990\n",
      "Epoch 13/25\n",
      "250/250 [==============================] - 31s 124ms/step - loss: 0.3696 - acc: 0.8367 - val_loss: 0.4312 - val_acc: 0.8065\n",
      "Epoch 14/25\n",
      "250/250 [==============================] - 31s 125ms/step - loss: 0.3561 - acc: 0.8444 - val_loss: 0.3950 - val_acc: 0.8185\n",
      "Epoch 15/25\n",
      "250/250 [==============================] - 32s 127ms/step - loss: 0.3489 - acc: 0.8397 - val_loss: 0.4376 - val_acc: 0.8180\n",
      "Epoch 16/25\n",
      "250/250 [==============================] - 31s 125ms/step - loss: 0.3371 - acc: 0.8480 - val_loss: 0.4463 - val_acc: 0.7865\n",
      "Epoch 17/25\n",
      "250/250 [==============================] - 31s 125ms/step - loss: 0.3296 - acc: 0.8539 - val_loss: 0.4173 - val_acc: 0.8060\n",
      "Epoch 18/25\n",
      "250/250 [==============================] - 31s 125ms/step - loss: 0.3169 - acc: 0.8536 - val_loss: 0.4588 - val_acc: 0.8015\n",
      "Epoch 19/25\n",
      "250/250 [==============================] - 31s 125ms/step - loss: 0.2966 - acc: 0.8717 - val_loss: 0.4165 - val_acc: 0.8260\n",
      "Epoch 20/25\n",
      "250/250 [==============================] - 31s 124ms/step - loss: 0.2924 - acc: 0.8702 - val_loss: 0.3912 - val_acc: 0.8315\n",
      "Epoch 21/25\n",
      "250/250 [==============================] - 31s 125ms/step - loss: 0.2758 - acc: 0.8789 - val_loss: 0.3914 - val_acc: 0.8285\n",
      "Epoch 22/25\n",
      "250/250 [==============================] - 31s 125ms/step - loss: 0.2697 - acc: 0.8840 - val_loss: 0.3937 - val_acc: 0.8325\n",
      "Epoch 23/25\n",
      "250/250 [==============================] - 33s 131ms/step - loss: 0.2588 - acc: 0.8875 - val_loss: 0.3914 - val_acc: 0.8295\n",
      "Epoch 24/25\n",
      "250/250 [==============================] - 33s 133ms/step - loss: 0.2512 - acc: 0.8900 - val_loss: 0.4207 - val_acc: 0.8295\n",
      "Epoch 25/25\n",
      "250/250 [==============================] - 34s 136ms/step - loss: 0.2691 - acc: 0.8840 - val_loss: 0.4239 - val_acc: 0.8280\n"
     ]
    },
    {
     "data": {
      "text/plain": [
       "<keras.callbacks.History at 0x1c2a49d74e0>"
      ]
     },
     "execution_count": 64,
     "metadata": {},
     "output_type": "execute_result"
    }
   ],
   "source": [
    "classifier.fit_generator(training_set,\n",
    "                    steps_per_epoch=8000/32,\n",
    "                    epochs=25,\n",
    "                    validation_data=test_set,\n",
    "                    validation_steps=2000/32)"
   ]
  },
  {
   "cell_type": "code",
   "execution_count": 65,
   "metadata": {},
   "outputs": [],
   "source": [
    "#Predicting result of a real image\n",
    "\n",
    "from skimage.io import imread\n",
    "from skimage.transform import resize\n",
    "import numpy as np"
   ]
  },
  {
   "cell_type": "code",
   "execution_count": 66,
   "metadata": {},
   "outputs": [],
   "source": [
    "class_labels = {v: k for k, v in training_set.class_indices.items()}"
   ]
  },
  {
   "cell_type": "code",
   "execution_count": 81,
   "metadata": {
    "scrolled": true
   },
   "outputs": [
    {
     "name": "stderr",
     "output_type": "stream",
     "text": [
      "C:\\Users\\krxat\\AppData\\Local\\conda\\conda\\envs\\hacktory\\lib\\site-packages\\skimage\\transform\\_warps.py:105: UserWarning: The default mode, 'constant', will be changed to 'reflect' in skimage 0.15.\n",
      "  warn(\"The default mode, 'constant', will be changed to 'reflect' in \"\n",
      "C:\\Users\\krxat\\AppData\\Local\\conda\\conda\\envs\\hacktory\\lib\\site-packages\\skimage\\transform\\_warps.py:110: UserWarning: Anti-aliasing will be enabled by default in skimage 0.15 to avoid aliasing artifacts when down-sampling images.\n",
      "  warn(\"Anti-aliasing will be enabled by default in skimage 0.15 to \"\n"
     ]
    }
   ],
   "source": [
    " img = imread(\"./cat.jpg\")\n",
    "img = resize(img,(64,64))\n",
    "img = np.expand_dims(img,axis=0)"
   ]
  },
  {
   "cell_type": "code",
   "execution_count": 82,
   "metadata": {},
   "outputs": [],
   "source": [
    "if(np.max(img)>1):\n",
    "    img = img/255.0 "
   ]
  },
  {
   "cell_type": "code",
   "execution_count": 86,
   "metadata": {},
   "outputs": [
    {
     "name": "stdout",
     "output_type": "stream",
     "text": [
      "cats\n"
     ]
    }
   ],
   "source": [
    "prediction = classifier.predict_classes(img)\n",
    " \n",
    "print (class_labels[prediction[0][0]])"
   ]
  },
  {
   "cell_type": "code",
   "execution_count": 88,
   "metadata": {},
   "outputs": [
    {
     "data": {
      "text/plain": [
       "'\"import numpy as np\\nfrom keras.preprocessing import image\\n\\ntest_image = image.load_img(\\'cat.jpg\\', target_size = (64, 64))\\n\\ntest_image = image.img_to_array(test_image)\\ntest_image = np.expand_dims(test_image, axis = 0)\\n\\nresult = classifier.predict(test_image)\\n#training_set.class_indices\\nif result[0][0] == 1:\\n    prediction = \\'dogs\\'\\n    print(\\'dog\\')\\nelse:\\n    prediction = \\'cats\\'\\n    print(\\'cat\\')'"
      ]
     },
     "execution_count": 88,
     "metadata": {},
     "output_type": "execute_result"
    }
   ],
   "source": [
    "#Down Below is another methord to visualize the result but is giving a poor output\n",
    "\"\"\"\"import numpy as np\n",
    "from keras.preprocessing import image\n",
    "\n",
    "test_image = image.load_img('cat.jpg', target_size = (64, 64))\n",
    "\n",
    "test_image = image.img_to_array(test_image)\n",
    "test_image = np.expand_dims(test_image, axis = 0)\n",
    "\n",
    "result = classifier.predict(test_image)\n",
    "#training_set.class_indices\n",
    "if result[0][0] == 1:\n",
    "    prediction = 'dogs'\n",
    "    print('dog')\n",
    "else:\n",
    "    prediction = 'cats'\n",
    "    print('cat')\"\"\""
   ]
  },
  {
   "cell_type": "code",
   "execution_count": null,
   "metadata": {},
   "outputs": [],
   "source": []
  }
 ],
 "metadata": {
  "kernelspec": {
   "display_name": "Python 3",
   "language": "python",
   "name": "python3"
  },
  "language_info": {
   "codemirror_mode": {
    "name": "ipython",
    "version": 3
   },
   "file_extension": ".py",
   "mimetype": "text/x-python",
   "name": "python",
   "nbconvert_exporter": "python",
   "pygments_lexer": "ipython3",
   "version": "3.5.5"
  }
 },
 "nbformat": 4,
 "nbformat_minor": 2
}
